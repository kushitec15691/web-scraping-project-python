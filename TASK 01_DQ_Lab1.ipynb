{
 "cells": [
  {
   "cell_type": "markdown",
   "id": "61115f7e",
   "metadata": {},
   "source": [
    "# TASK 01 - First Website"
   ]
  },
  {
   "cell_type": "code",
   "execution_count": 1,
   "id": "1b4a409f",
   "metadata": {},
   "outputs": [],
   "source": [
    "# Importing the libraries\n",
    "from bs4 import BeautifulSoup   \n",
    "import requests                   \n",
    "import sys     "
   ]
  },
  {
   "cell_type": "code",
   "execution_count": 2,
   "id": "dc2c1224",
   "metadata": {
    "scrolled": true
   },
   "outputs": [
    {
     "name": "stdout",
     "output_type": "stream",
     "text": [
      "Status code:  200\n"
     ]
    }
   ],
   "source": [
    "# Setting the User-Agent to mimic a browser request\n",
    "USER_AGENT = \"Mozilla/5.0 (Macintosh; Intel Mac OS X 10.14; rv:65.0) Gecko/20100101 Firefox/65.0\"\n",
    "headers = {\"user-agent\": USER_AGENT}\n",
    "\n",
    "# Make a GET request to the specified URL\n",
    "r = requests.get(\"https://www.computerweekly.com/news/366588823/Artificial-intelligence-to-make-Olympic-Games-more-inclusive?_gl=1*1615iog*_ga*MzQyNTg5MTY1LjE3MTc4MDQyOTk.*_ga_TQKE4GS5P9*MTcyNjc0MjUyMy4zMS4xLjE3MjY3NDI1NTAuMC4wLjA.\", headers=headers)\n",
    "print(\"Status code: \", r.status_code)"
   ]
  },
  {
   "cell_type": "code",
   "execution_count": 3,
   "id": "a9512eb9",
   "metadata": {},
   "outputs": [],
   "source": [
    "# Checking if the request was successful\n",
    "if r.status_code == 200:\n",
    "    soup = BeautifulSoup(r.content, \"html.parser\")\n",
    "else:\n",
    "    print(\"Scraping is not possible\")\n",
    "    sys.exit(0)"
   ]
  },
  {
   "cell_type": "code",
   "execution_count": 4,
   "id": "dbf28173",
   "metadata": {},
   "outputs": [
    {
     "name": "stdout",
     "output_type": "stream",
     "text": [
      "Data has been written to Task1_1.txt\n"
     ]
    }
   ],
   "source": [
    "# File name on the local disk\n",
    "output_filename = \"Task1_1.txt\"\n",
    "\n",
    "# Search for the main content div\n",
    "results = soup.find(\"div\", {\"class\": \"main-content\"})\n",
    "\n",
    "# Extract text if results are found\n",
    "if results:\n",
    "    text = results.findAll(\"div\", {\"class\": \"content-center\"})\n",
    "else:\n",
    "    text = []\n",
    "\n",
    "# Search for the article's title\n",
    "title = soup.find(\"h1\", {\"class\": \"main-article-title\"})\n",
    "title1 = title.text.strip() if title else \"No title found\"\n",
    "\n",
    "# Writing the title and content to the file\n",
    "with open(output_filename, \"w\", encoding='utf-8') as f:\n",
    "    f.write(f\"Title: {title1}\\n\\n\")\n",
    "    \n",
    "    for p in text:\n",
    "        summary = p.text.strip()  # Clean up whitespace\n",
    "        f.write(f\"{summary}\\n\")\n",
    "\n",
    "print(f\"Data has been written to {output_filename}\")"
   ]
  },
  {
   "cell_type": "markdown",
   "id": "b8f09d89",
   "metadata": {},
   "source": [
    "# Task 01- Second Website "
   ]
  },
  {
   "cell_type": "code",
   "execution_count": 9,
   "id": "7e8edaac",
   "metadata": {},
   "outputs": [],
   "source": [
    "from bs4 import BeautifulSoup\n",
    "import requests\n",
    "import sys"
   ]
  },
  {
   "cell_type": "code",
   "execution_count": 10,
   "id": "e4c55414",
   "metadata": {},
   "outputs": [
    {
     "name": "stdout",
     "output_type": "stream",
     "text": [
      "Status code:  200\n"
     ]
    }
   ],
   "source": [
    "# Desktop user-agent\n",
    "USER_AGENT = \"Mozilla/5.0 (Macintosh; Intel Mac OS X 10.14; rv:65.0) Gecko/20100101 Firefox/65.0\"\n",
    "headers = {\"user-agent\": USER_AGENT}\n",
    "\n",
    "# URL of the second website\n",
    "url = \"https://mitsloan.mit.edu/ideas-made-to-matter/machine-learning-explained\"\n",
    "r = requests.get(url, headers=headers)\n",
    "print(\"Status code: \", r.status_code)"
   ]
  },
  {
   "cell_type": "code",
   "execution_count": null,
   "id": "b1d5969c",
   "metadata": {},
   "outputs": [],
   "source": [
    "if r.status_code == 200:\n",
    "    # Parsing the page content with BeautifulSoup\n",
    "    soup = BeautifulSoup(r.content, \"html.parser\")\n",
    "else:\n",
    "    print(\"Scraping is not possible\")\n",
    "    sys.exit(0)\n"
   ]
  },
  {
   "cell_type": "code",
   "execution_count": null,
   "id": "1c9a52b8",
   "metadata": {},
   "outputs": [],
   "source": [
    "# Output file name on the local disk\n",
    "out_filename = \"Task1_2.txt\"\n",
    "\n",
    "# Looking for the main content div\n",
    "results = soup.find(\"div\", {\"class\": \"article--body\"})\n",
    "\n",
    "# If the results are found then extract the content\n",
    "if results:\n",
    "    paragraphs = results.find_all(\"p\")  # Extract all paragraphs inside the article body\n",
    "else:\n",
    "    paragraphs = []\n",
    "\n",
    "# Find the article's title\n",
    "title1 = soup.find(\"h1\", {\"class\": \"article_header--title\"})\n",
    "\n",
    "# Open the file with 'utf-8' encoding\n",
    "with open(out_filename, \"w\", encoding='utf-8') as f:\n",
    "    # Print the title to the file\n",
    "    if title1:\n",
    "        f.write(title1.get_text() + \"\\n\\n\")\n",
    "    \n",
    "    # Print the article's text content\n",
    "    if paragraphs:\n",
    "        for p in paragraphs:  # Extract text from all <p> tags\n",
    "            summary = p.get_text()\n",
    "            # Write summary to the file\n",
    "            f.write(summary + \"\\n\")\n",
    "    else:\n",
    "        f.write(\"No content found.\\n\")"
   ]
  },
  {
   "cell_type": "code",
   "execution_count": null,
   "id": "6a2c5d1c",
   "metadata": {},
   "outputs": [],
   "source": []
  }
 ],
 "metadata": {
  "kernelspec": {
   "display_name": "Python 3 (ipykernel)",
   "language": "python",
   "name": "python3"
  },
  "language_info": {
   "codemirror_mode": {
    "name": "ipython",
    "version": 3
   },
   "file_extension": ".py",
   "mimetype": "text/x-python",
   "name": "python",
   "nbconvert_exporter": "python",
   "pygments_lexer": "ipython3",
   "version": "3.11.5"
  },
  "varInspector": {
   "cols": {
    "lenName": 16,
    "lenType": 16,
    "lenVar": 40
   },
   "kernels_config": {
    "python": {
     "delete_cmd_postfix": "",
     "delete_cmd_prefix": "del ",
     "library": "var_list.py",
     "varRefreshCmd": "print(var_dic_list())"
    },
    "r": {
     "delete_cmd_postfix": ") ",
     "delete_cmd_prefix": "rm(",
     "library": "var_list.r",
     "varRefreshCmd": "cat(var_dic_list()) "
    }
   },
   "types_to_exclude": [
    "module",
    "function",
    "builtin_function_or_method",
    "instance",
    "_Feature"
   ],
   "window_display": false
  }
 },
 "nbformat": 4,
 "nbformat_minor": 5
}
