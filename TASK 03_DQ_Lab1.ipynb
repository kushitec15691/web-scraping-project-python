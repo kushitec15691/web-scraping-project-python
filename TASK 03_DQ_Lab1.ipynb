{
 "cells": [
  {
   "cell_type": "markdown",
   "id": "ae9f8293",
   "metadata": {},
   "source": [
    "# TimeAndDate Weather Data"
   ]
  },
  {
   "cell_type": "code",
   "execution_count": 10,
   "id": "8975dda3",
   "metadata": {},
   "outputs": [],
   "source": [
    "# Required libraries\n",
    "import requests\n",
    "from bs4 import BeautifulSoup\n",
    "from datetime import datetime"
   ]
  },
  {
   "cell_type": "code",
   "execution_count": 11,
   "id": "91bdda7b",
   "metadata": {},
   "outputs": [],
   "source": [
    "# Adding the function to scrape weather data from TimeAndDate\n",
    "def scrape_timeanddate(city, country):\n",
    "    try:\n",
    "        # Format the URL with city and country\n",
    "        url = f\"https://www.timeanddate.com/weather/{country}/{city}\"\n",
    "        response = requests.get(url)\n",
    "        response.raise_for_status()  # Raise an exception for HTTP errors\n",
    "        \n",
    "        # Parse the content\n",
    "        soup = BeautifulSoup(response.text, \"html.parser\")\n",
    "        \n",
    "        # Extract temperature\n",
    "        temperature = soup.find('div', class_='h2').text.strip()\n",
    "        \n",
    "        # Extract weather condition\n",
    "        condition = soup.find('div', class_='bk-focus__qlook').find('p').text.strip()\n",
    "\n",
    "        # Extract details (visibility, pressure, humidity, dew point)\n",
    "        details = soup.find_all('tr')\n",
    "        visibility = details[6].find('td').text.strip()  # Adjust this index if necessary\n",
    "        pressure = details[7].find('td').text.strip()\n",
    "        humidity = details[8].find('td').text.strip()\n",
    "        dew_point = details[9].find('td').text.strip()\n",
    "\n",
    "        # Get the current time\n",
    "        current_time = datetime.now().strftime('%Y-%m-%d %H:%M:%S')\n",
    "\n",
    "        return {\n",
    "            \"city\": city.title(),\n",
    "            \"temperature\": temperature,\n",
    "            \"condition\": condition,\n",
    "            \"current_time\": current_time,\n",
    "            \"visibility\": visibility,\n",
    "            \"pressure\": pressure,\n",
    "            \"humidity\": humidity,\n",
    "            \"dew_point\": dew_point\n",
    "        }\n",
    "\n",
    "    except requests.exceptions.RequestException as e:\n",
    "        print(f\"Error fetching TimeAndDate data: {e}\")\n",
    "        return None"
   ]
  },
  {
   "cell_type": "code",
   "execution_count": 12,
   "id": "eabb9827",
   "metadata": {},
   "outputs": [
    {
     "name": "stdout",
     "output_type": "stream",
     "text": [
      "Enter the city name: Stockholm \n",
      "Enter the country name (use lowercase): sweden\n",
      "TimeAndDate Weather Data:\n",
      "City: Stockholm-\n",
      "Temperature: 12 °C\n",
      "Condition: Passing clouds.\n",
      "Current_time: 2024-10-18 10:59:24\n",
      "Visibility: 9 °C\n",
      "Pressure: Now\n",
      "Humidity: \n",
      "Dew_point: 12 °C\n",
      "Weather data saved to timeanddate_weather.txt\n"
     ]
    }
   ],
   "source": [
    "# Adding the function to save data to a text file\n",
    "def save_weather_data(data, filename):\n",
    "    with open(filename, 'w', encoding='utf-8') as f:\n",
    "        for key, value in data.items():\n",
    "            f.write(f\"{key.capitalize()}: {value}\\n\")\n",
    "    print(f\"Weather data saved to {filename}\")\n",
    "\n",
    "# Adding the main function to run the scraper\n",
    "def main():\n",
    "    city = input(\"Enter the city name: \").lower().replace(\" \", \"-\")\n",
    "    country = input(\"Enter the country name (use lowercase): \").lower()\n",
    "\n",
    "    # Scrape from TimeAndDate\n",
    "    timeanddate_data = scrape_timeanddate(city, country)\n",
    "    if timeanddate_data:\n",
    "        print(\"TimeAndDate Weather Data:\")\n",
    "        for key, value in timeanddate_data.items():\n",
    "            print(f\"{key.capitalize()}: {value}\")\n",
    "        save_weather_data(timeanddate_data, 'timeanddate_weather.txt')\n",
    "\n",
    "# Run the main function\n",
    "if __name__ == \"__main__\":\n",
    "    main()"
   ]
  },
  {
   "cell_type": "markdown",
   "id": "b6524bab",
   "metadata": {},
   "source": [
    "# Wunderground Weather Data"
   ]
  },
  {
   "cell_type": "code",
   "execution_count": 4,
   "id": "5f832ac3",
   "metadata": {},
   "outputs": [],
   "source": [
    "# Required libraries\n",
    "import requests\n",
    "from bs4 import BeautifulSoup\n",
    "from datetime import datetime"
   ]
  },
  {
   "cell_type": "code",
   "execution_count": 5,
   "id": "94d98ca8",
   "metadata": {},
   "outputs": [],
   "source": [
    "# Adding the function to scrape weather data from Wunderground\n",
    "\n",
    "def scrape_wunderground(city, country):\n",
    "    try:\n",
    "        url = f\"https://www.wunderground.com/{country}/{city}\"\n",
    "        response = requests.get(url)\n",
    "        response.raise_for_status()  # Raise an exception for HTTP errors\n",
    "        \n",
    "        soup = BeautifulSoup(response.text, \"html.parser\")\n",
    "        \n",
    "        # Attempt to extract temperature\n",
    "        temperature = soup.find('span', class_='wu-value wu-value-to')\n",
    "        if not temperature:\n",
    "            temperature = soup.find('span', class_='wu-value')\n",
    "        \n",
    "        temperature = temperature.text.strip() + ' °C' if temperature else \"Temperature not available\"\n",
    "        \n",
    "        # Extract weather condition\n",
    "        condition = soup.find('div', class_='condition-icon small-6 medium-12 columns')\n",
    "        condition = condition.text.strip() if condition else \"Condition not available\"\n",
    "\n",
    "        # Extract additional details\n",
    "        details_dict = {}\n",
    "        weather_details = soup.find_all('span', class_='wu-value wu-value-to')\n",
    "        \n",
    "        for detail in weather_details:\n",
    "            detail_id = detail.get('id')\n",
    "            if detail_id:\n",
    "                details_dict[detail_id] = detail.text.strip()\n",
    "\n",
    "        visibility = details_dict.get('visibility', \"Visibility not available\")\n",
    "        pressure = details_dict.get('pressure', \"Pressure not available\")\n",
    "        humidity = details_dict.get('humidity', \"Humidity not available\")\n",
    "        dew_point = details_dict.get('dewpoint', \"Dew point not available\")\n",
    "\n",
    "        current_time = datetime.now().strftime('%Y-%m-%d %H:%M:%S')\n",
    "        \n",
    "        return {\n",
    "            \"city\": city.title(),\n",
    "            \"temperature\": temperature,\n",
    "            \"condition\": condition,\n",
    "            \"current_time\": current_time,\n",
    "            \"visibility\": visibility,\n",
    "            \"pressure\": pressure,\n",
    "            \"humidity\": humidity,\n",
    "            \"dew_point\": dew_point\n",
    "        }\n",
    "    \n",
    "    except requests.exceptions.RequestException as e:\n",
    "        print(f\"Error fetching Wunderground data: {e}\")\n",
    "        return None\n",
    "\n",
    "def save_weather_data(data, filename):\n",
    "    with open(filename, 'w', encoding='utf-8') as f:\n",
    "        for key, value in data.items():\n",
    "            f.write(f\"{key.capitalize()}: {value}\\n\")\n",
    "    print(f\"Weather data saved to {filename}\")\n"
   ]
  },
  {
   "cell_type": "code",
   "execution_count": 6,
   "id": "8be3ce9d",
   "metadata": {},
   "outputs": [
    {
     "name": "stdout",
     "output_type": "stream",
     "text": [
      "Enter the city name: stockholm\n",
      "Enter the country name (use lowercase): sweden\n",
      "Error fetching Wunderground data: 404 Client Error: Not Found for url: https://www.wunderground.com/sweden/stockholm\n"
     ]
    }
   ],
   "source": [
    "def main():\n",
    "    city = input(\"Enter the city name: \").lower().replace(\" \", \"-\")\n",
    "    country = input(\"Enter the country name (use lowercase): \").lower()\n",
    "    \n",
    "    wunderground_data = scrape_wunderground(city, country)\n",
    "    if wunderground_data:\n",
    "        print(\"Wunderground Weather Data:\")\n",
    "        for key, value in wunderground_data.items():\n",
    "            print(f\"{key.capitalize()}: {value}\")\n",
    "        save_weather_data(wunderground_data, 'wunderground_weather.txt')\n",
    "\n",
    "if __name__ == \"__main__\":\n",
    "    main()"
   ]
  },
  {
   "cell_type": "code",
   "execution_count": null,
   "id": "5844dbfe",
   "metadata": {},
   "outputs": [],
   "source": []
  }
 ],
 "metadata": {
  "kernelspec": {
   "display_name": "Python 3 (ipykernel)",
   "language": "python",
   "name": "python3"
  },
  "language_info": {
   "codemirror_mode": {
    "name": "ipython",
    "version": 3
   },
   "file_extension": ".py",
   "mimetype": "text/x-python",
   "name": "python",
   "nbconvert_exporter": "python",
   "pygments_lexer": "ipython3",
   "version": "3.11.5"
  },
  "varInspector": {
   "cols": {
    "lenName": 16,
    "lenType": 16,
    "lenVar": 40
   },
   "kernels_config": {
    "python": {
     "delete_cmd_postfix": "",
     "delete_cmd_prefix": "del ",
     "library": "var_list.py",
     "varRefreshCmd": "print(var_dic_list())"
    },
    "r": {
     "delete_cmd_postfix": ") ",
     "delete_cmd_prefix": "rm(",
     "library": "var_list.r",
     "varRefreshCmd": "cat(var_dic_list()) "
    }
   },
   "types_to_exclude": [
    "module",
    "function",
    "builtin_function_or_method",
    "instance",
    "_Feature"
   ],
   "window_display": false
  }
 },
 "nbformat": 4,
 "nbformat_minor": 5
}
