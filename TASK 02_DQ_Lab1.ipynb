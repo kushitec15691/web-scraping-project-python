{
 "cells": [
  {
   "cell_type": "code",
   "execution_count": 1,
   "id": "c8df631a",
   "metadata": {},
   "outputs": [],
   "source": [
    "# Required libraries\n",
    "from bs4 import BeautifulSoup\n",
    "import requests\n",
    "import csv"
   ]
  },
  {
   "cell_type": "code",
   "execution_count": 2,
   "id": "ab9119ed",
   "metadata": {},
   "outputs": [],
   "source": [
    "# Desktop user-agent\n",
    "USER_AGENT = \"Mozilla/5.0 (Macintosh; Intel Mac OS X 10.14; rv:65.0) Gecko/20100101 Firefox/65.0\"\n",
    "headers = {\"user-agent\": USER_AGENT}"
   ]
  },
  {
   "cell_type": "code",
   "execution_count": 3,
   "id": "a2c4c415",
   "metadata": {
    "scrolled": true
   },
   "outputs": [
    {
     "name": "stdout",
     "output_type": "stream",
     "text": [
      "Status code: 200\n"
     ]
    }
   ],
   "source": [
    "# Request the Amazon page\n",
    "url = \"https://www.amazon.se/Apple-Watch-Band-Sportloop-storlek/dp/B0DGHYSLFL?ref_=ast_sto_dp&th=1&psc=1\"\n",
    "r = requests.get(url, headers=headers)\n",
    "print(\"Status code:\", r.status_code)"
   ]
  },
  {
   "cell_type": "code",
   "execution_count": 4,
   "id": "710f1293",
   "metadata": {},
   "outputs": [
    {
     "name": "stdout",
     "output_type": "stream",
     "text": [
      "Product Title: Apple Watch Band - Sportloop - 46 mm - dimblå - En storlek (passar de flesta)\n",
      "Product Price: 595,\n",
      "Data saved to AmazonDataset.csv\n"
     ]
    }
   ],
   "source": [
    "if r.status_code == 200:\n",
    "    # Gonna prase the page content with BeautifulSoup\n",
    "    soup = BeautifulSoup(r.content, \"html.parser\")\n",
    "    \n",
    "    # Extract the title\n",
    "    try:\n",
    "        title = soup.find(\"span\", {\"id\": \"productTitle\"}).get_text(strip=True)\n",
    "    except AttributeError:\n",
    "        title = \"Title not found\"\n",
    "    \n",
    "    # Extract the price\n",
    "    try:\n",
    "        price = soup.find(\"span\", {\"class\": \"a-price-whole\"}).get_text(strip=True)\n",
    "    except AttributeError:\n",
    "        price = \"Price not found\"\n",
    "\n",
    "    # Gonna Print the extracted data\n",
    "    print(\"Product Title:\", title)\n",
    "    print(\"Product Price:\", price)\n",
    "\n",
    "    # Gonna Save the data to a CSV file\n",
    "    headers = ['Title', 'Price']\n",
    "    data = [title, price]\n",
    "\n",
    "    # Getting the data to a CSV file\n",
    "    with open('AmazonDataset.csv', 'w', newline='', encoding='UTF8') as f:\n",
    "        writer = csv.writer(f)\n",
    "        writer.writerow(headers)\n",
    "        writer.writerow(data)\n",
    "\n",
    "    print(\"Data saved to AmazonDataset.csv\")\n",
    "else:\n",
    "    print(f\"Failed to retrieve the page. Status code: {r.status_code}\")"
   ]
  }
 ],
 "metadata": {
  "kernelspec": {
   "display_name": "Python 3 (ipykernel)",
   "language": "python",
   "name": "python3"
  },
  "language_info": {
   "codemirror_mode": {
    "name": "ipython",
    "version": 3
   },
   "file_extension": ".py",
   "mimetype": "text/x-python",
   "name": "python",
   "nbconvert_exporter": "python",
   "pygments_lexer": "ipython3",
   "version": "3.11.5"
  },
  "varInspector": {
   "cols": {
    "lenName": 16,
    "lenType": 16,
    "lenVar": 40
   },
   "kernels_config": {
    "python": {
     "delete_cmd_postfix": "",
     "delete_cmd_prefix": "del ",
     "library": "var_list.py",
     "varRefreshCmd": "print(var_dic_list())"
    },
    "r": {
     "delete_cmd_postfix": ") ",
     "delete_cmd_prefix": "rm(",
     "library": "var_list.r",
     "varRefreshCmd": "cat(var_dic_list()) "
    }
   },
   "types_to_exclude": [
    "module",
    "function",
    "builtin_function_or_method",
    "instance",
    "_Feature"
   ],
   "window_display": false
  }
 },
 "nbformat": 4,
 "nbformat_minor": 5
}
